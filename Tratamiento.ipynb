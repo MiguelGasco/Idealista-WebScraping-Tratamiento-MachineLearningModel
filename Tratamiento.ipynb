{
  "cells": [
    {
      "cell_type": "code",
      "execution_count": 94,
      "metadata": {
        "id": "XkxcrbebyJw7"
      },
      "outputs": [],
      "source": [
        "import pandas as pd\n",
        "df = pd.read_csv('datos_full.csv')"
      ]
    },
    {
      "cell_type": "code",
      "execution_count": 95,
      "metadata": {},
      "outputs": [
        {
          "name": "stdout",
          "output_type": "stream",
          "text": [
            "id_inmueble               112\n",
            "Superficie construida     112\n",
            "Superficie útil            50\n",
            "Habitaciones                0\n",
            "Baños                       0\n",
            "Terraza                    23\n",
            "Balcón                     28\n",
            "Plaza de garaje            17\n",
            "Estado                    100\n",
            "Armarios empotrados        59\n",
            "Calefacción                49\n",
            "Orientación                64\n",
            "Calefacción individual     31\n",
            "Consumo                    27\n",
            "Emisiones                  26\n",
            "Barrio                     82\n",
            "Distrito                  111\n",
            "Precio                    112\n",
            "Calefacción central         1\n",
            "3                          31\n",
            "dtype: int64\n"
          ]
        }
      ],
      "source": [
        "#Eliminar las que tienen habitaciones y baños null en la misma fila\n",
        "filas_nulas = df[(df['Habitaciones'].isnull()) & (df['Baños'].isnull())]\n",
        "\n",
        "print(filas_nulas.count())\n",
        "df = df.drop(filas_nulas.index)"
      ]
    },
    {
      "cell_type": "code",
      "execution_count": 96,
      "metadata": {
        "id": "AmGogGoKzHQ6"
      },
      "outputs": [],
      "source": [
        "#Unir columnas para centrar datos similares\n",
        "\n",
        "df['Habitaciones'] = df['Habitaciones'].astype(str)\n",
        "df['Baños'] = df['Baños'].astype(str)\n",
        "\n",
        "df['Habitaciones'] = df['Habitaciones'].str.extract('(\\d+)').astype(float)\n",
        "\n",
        "df['Baños'] = df['Baños'].str.extract('(\\d+)').astype(float)\n",
        "\n",
        "def combine_terrazas_salon(row):\n",
        "    terraza = str(row['Terraza']) if pd.notnull(row['Terraza']) else ''\n",
        "    salon = str(row['Balcón']) if pd.notnull(row['Balcón']) else ''\n",
        "    if terraza == salon:\n",
        "        return terraza\n",
        "    return ' '.join(filter(None, [terraza, salon]))\n",
        "\n",
        "df['Terraza_Balcon'] = df.apply(combine_terrazas_salon, axis=1)\n",
        "\n",
        "def combine_calefaccion(row):\n",
        "    calefaccion = str(row['Calefacción']) if pd.notnull(row['Calefacción']) else ''\n",
        "    calefaccion_central = str(row['Calefacción central']) if pd.notnull(row['Calefacción central']) else ''\n",
        "    calefaccion_individual = str(row['Calefacción individual']) if pd.notnull(row['Calefacción individual']) else ''\n",
        "    if calefaccion and calefaccion_central:\n",
        "        return ' '.join(filter(None, [calefaccion, calefaccion_central]))\n",
        "    elif calefaccion:\n",
        "        return calefaccion\n",
        "    elif calefaccion_central:\n",
        "        return calefaccion_central\n",
        "    elif calefaccion_individual:\n",
        "        return calefaccion_individual\n",
        "    return ''\n",
        "\n",
        "df['Calefacción'] = df.apply(combine_calefaccion, axis=1)"
      ]
    },
    {
      "cell_type": "code",
      "execution_count": 97,
      "metadata": {},
      "outputs": [],
      "source": [
        "#Rellenar los nulos con 0, lo cual quiere decir que no tienen en el caso del garaje y los armarios empotrados\n",
        "#En el caso del estado, el 0 es que son nuevos\n",
        "\n",
        "df['Plaza de garaje'] = df['Plaza de garaje'].fillna(0)\n",
        "df['Estado'] = df['Estado'].fillna(0)\n",
        "df['Armarios empotrados'] = df['Armarios empotrados'].fillna(0)"
      ]
    },
    {
      "cell_type": "code",
      "execution_count": 98,
      "metadata": {},
      "outputs": [
        {
          "name": "stdout",
          "output_type": "stream",
          "text": [
            "Habitaciones\n",
            "2.0     2.0\n",
            "3.0     2.0\n",
            "4.0     2.0\n",
            "5.0     3.0\n",
            "6.0     3.0\n",
            "7.0     3.0\n",
            "8.0     4.0\n",
            "9.0     3.0\n",
            "10.0    2.0\n",
            "Name: Baños, dtype: float64\n"
          ]
        }
      ],
      "source": [
        "#Reemplazar valores nulos en 'Baños' segun el numero de habitaciones\n",
        "media_baños = df.groupby('Habitaciones')['Baños'].mean().round()\n",
        "print(media_baños)\n",
        "\n",
        "def rellenar_baños(row):\n",
        "    if pd.isnull(row['Baños']):\n",
        "        return media_baños.get(row['Habitaciones'], row['Baños']) \n",
        "    return row['Baños']\n",
        "\n",
        "df['Baños'] = df.apply(lambda row: rellenar_baños(row), axis=1)"
      ]
    },
    {
      "cell_type": "code",
      "execution_count": 99,
      "metadata": {},
      "outputs": [],
      "source": [
        "import re\n",
        "\n",
        "#Añadir precio plaza de garaje al precio final de la vivienda\n",
        "df['Plaza de garaje'] = df['Plaza de garaje'].fillna('')\n",
        "\n",
        "def extract_price(value):\n",
        "    if isinstance(value, str) and '€' in value:\n",
        "        match = re.search(r'(\\d+(?:\\.\\d{1,3})?)', value)\n",
        "        return float(match.group().replace('.', '')) if match else 0\n",
        "    else:\n",
        "        return 0\n",
        "\n",
        "df['Precio garaje'] = df['Plaza de garaje'].apply(extract_price)\n",
        "df['Precio'] = df['Precio'] + df['Precio garaje']"
      ]
    },
    {
      "cell_type": "code",
      "execution_count": 100,
      "metadata": {
        "id": "JVahP18bUOqQ"
      },
      "outputs": [],
      "source": [
        "#Eliminacion de columnas\n",
        "to_drop = ['id_inmueble', 'Superficie útil', 'Terraza', 'Balcón', '3', 'Calefacción central', 'Calefacción individual', 'Consumo', 'Emisiones','Barrio','Orientación', 'Precio garaje', 'Plaza de garaje']\n",
        "df.drop(to_drop, axis = 1, inplace = True)"
      ]
    },
    {
      "cell_type": "code",
      "execution_count": 101,
      "metadata": {},
      "outputs": [],
      "source": [
        "df.dropna(inplace=True)"
      ]
    },
    {
      "cell_type": "code",
      "execution_count": 102,
      "metadata": {},
      "outputs": [],
      "source": [
        "#Columans a tipo string\n",
        "df[['Estado', 'Armarios empotrados', 'Calefacción', 'Distrito', 'Terraza_Balcon']] = \\\n",
        "    df[['Estado', 'Armarios empotrados', 'Calefacción', 'Distrito', 'Terraza_Balcon']].astype(str)\n"
      ]
    },
    {
      "cell_type": "code",
      "execution_count": 103,
      "metadata": {},
      "outputs": [
        {
          "name": "stdout",
          "output_type": "stream",
          "text": [
            "            Distrito Original  Distrito Codificado\n",
            "0         Distrito L'Eixample                    0\n",
            "1     Distrito Camins al Grau                    1\n",
            "2    Distrito Quatre Carreres                    2\n",
            "3       Distrito Ciutat Vella                    3\n",
            "4    Distrito El Pla del Real                    4\n",
            "5           Distrito Campanar                    5\n",
            "6          Distrito Extramurs                    6\n",
            "7          Distrito Benicalap                    7\n",
            "8         Distrito Benimaclet                    8\n",
            "9        Distrito L'Olivereta                    9\n",
            "10  Distrito Poblats Marítims                   10\n",
            "11         Distrito La Saïdia                   11\n",
            "12           Distrito Patraix                   12\n",
            "13           Distrito Algirós                   13\n",
            "14             Distrito Jesús                   14\n",
            "15          Distrito Rascanya                   15\n"
          ]
        }
      ],
      "source": [
        "from sklearn.preprocessing import OrdinalEncoder\n",
        "import numpy as np\n",
        "\n",
        "oe = OrdinalEncoder(handle_unknown='error', dtype=np.int8)\n",
        "\n",
        "# Almacenar el mapeo original de los distritos\n",
        "distritos_unicos = df['Distrito'].unique()\n",
        "distritos_mapeo = {distrito: idx for idx, distrito in enumerate(distritos_unicos)}\n",
        "\n",
        "# Transformar las columnas categóricas a valores numéricos\n",
        "df[['Estado', 'Armarios empotrados', 'Calefacción', 'Distrito', 'Terraza_Balcon']] = \\\n",
        "  oe.fit_transform(df[['Estado', 'Armarios empotrados', 'Calefacción', 'Distrito', 'Terraza_Balcon']])\n",
        "\n",
        "# Crear un DataFrame para ver el mapeo original\n",
        "distritos_df = pd.DataFrame(list(distritos_mapeo.items()), columns=['Distrito Original', 'Distrito Codificado'])\n",
        "print(distritos_df)"
      ]
    },
    {
      "cell_type": "code",
      "execution_count": 104,
      "metadata": {},
      "outputs": [],
      "source": [
        "#Columans a tipo float\n",
        "df = df.astype('float64')"
      ]
    },
    {
      "cell_type": "code",
      "execution_count": 105,
      "metadata": {},
      "outputs": [],
      "source": [
        "df.to_csv('datos_ML.csv', index = False)"
      ]
    }
  ],
  "metadata": {
    "colab": {
      "provenance": []
    },
    "kernelspec": {
      "display_name": "Python 3",
      "name": "python3"
    },
    "language_info": {
      "codemirror_mode": {
        "name": "ipython",
        "version": 3
      },
      "file_extension": ".py",
      "mimetype": "text/x-python",
      "name": "python",
      "nbconvert_exporter": "python",
      "pygments_lexer": "ipython3",
      "version": "3.11.7"
    }
  },
  "nbformat": 4,
  "nbformat_minor": 0
}
