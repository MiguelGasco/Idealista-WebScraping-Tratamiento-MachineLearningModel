{
 "cells": [
  {
   "cell_type": "code",
   "execution_count": 14,
   "metadata": {},
   "outputs": [],
   "source": [
    "import requests\n",
    "from bs4 import BeautifulSoup as bs\n",
    "import pandas as pd\n",
    "import numpy as np\n",
    "from selenium import webdriver\n",
    "from selenium.webdriver.firefox.firefox_binary import FirefoxBinary\n",
    "from selenium.webdriver.common.by import By\n",
    "from selenium.webdriver.common.keys import Keys\n",
    "import undetected_chromedriver as uc\n",
    "import time\n",
    "import random\n"
   ]
  },
  {
   "cell_type": "markdown",
   "metadata": {},
   "source": [
    "SCRAPING PISO"
   ]
  },
  {
   "cell_type": "code",
   "execution_count": 15,
   "metadata": {},
   "outputs": [],
   "source": [
    "# Abrir una ventana de incógnito\n",
    "options = uc.Chrome()\n",
    "#options.add_argument(\"--incognito\")\n",
    "browser = uc.Chrome()\n",
    "url = \"https://www.idealista.com/inmueble/102911174/\"\n",
    "browser.get(url)\n",
    "browser.find_element('id', 'didomi-notice-disagree-button').click()"
   ]
  },
  {
   "cell_type": "code",
   "execution_count": 84,
   "metadata": {},
   "outputs": [],
   "source": [
    "html = browser.page_source\n",
    "soup = bs(html, 'html.parser')"
   ]
  },
  {
   "cell_type": "code",
   "execution_count": 85,
   "metadata": {},
   "outputs": [],
   "source": [
    "seccion_caracteristicas = soup.find('section', {'id' : 'details'})\n",
    "seccion_ubicacion = soup.find('div', {'id' : 'headerMap'})"
   ]
  },
  {
   "cell_type": "code",
   "execution_count": 89,
   "metadata": {},
   "outputs": [],
   "source": [
    "caracteristicas = [caract.text.strip() for caract in seccion_caracteristicas.find_all('li')]\n",
    "ubicacion = [caract.text.strip() for caract in seccion_ubicacion.find_all('li')][0:2]"
   ]
  },
  {
   "cell_type": "code",
   "execution_count": 91,
   "metadata": {},
   "outputs": [
    {
     "data": {
      "text/plain": [
       "['Avenida de França', 'Barrio Penya-Roja']"
      ]
     },
     "execution_count": 91,
     "metadata": {},
     "output_type": "execute_result"
    }
   ],
   "source": [
    "ubicacion"
   ]
  },
  {
   "cell_type": "markdown",
   "metadata": {},
   "source": [
    "SCRAPING VALENCIA"
   ]
  },
  {
   "cell_type": "code",
   "execution_count": 77,
   "metadata": {},
   "outputs": [],
   "source": [
    "browser = uc.Chrome()\n",
    "url_valencia = 'https://www.idealista.com/venta-viviendas/valencia-valencia/'\n",
    "browser.get(url_valencia)\n",
    "browser.find_element('id', 'didomi-notice-disagree-button').click()"
   ]
  },
  {
   "cell_type": "code",
   "execution_count": 78,
   "metadata": {},
   "outputs": [],
   "source": [
    "html = browser.page_source\n",
    "soup = bs(html, 'html')"
   ]
  },
  {
   "cell_type": "code",
   "execution_count": 79,
   "metadata": {},
   "outputs": [],
   "source": [
    "#SECCION DE PISOS\n",
    "seccion_inmuebles = soup.find('section', {'class' : 'items-container items-list'})"
   ]
  },
  {
   "cell_type": "code",
   "execution_count": 80,
   "metadata": {},
   "outputs": [],
   "source": [
    "#Obtener Id's de los inmuebles\n",
    "articles = seccion_inmuebles.find_all('article')\n",
    "id_inmuebles = [article.get('data-element-id') for article in articles]"
   ]
  },
  {
   "cell_type": "code",
   "execution_count": 81,
   "metadata": {},
   "outputs": [],
   "source": [
    "#Limpiar nulos\n",
    "id_inmuebles = [inmueble for inmueble in id_inmuebles if inmueble is not None]"
   ]
  },
  {
   "cell_type": "markdown",
   "metadata": {},
   "source": [
    "BUSQUEDA INMUEBLES"
   ]
  },
  {
   "cell_type": "code",
   "execution_count": null,
   "metadata": {},
   "outputs": [],
   "source": [
    "x = 1\n",
    "ids = []\n",
    "browser = uc.Chrome()\n",
    "while True:\n",
    "    \n",
    "    url = f'https://www.idealista.com/venta-viviendas/valencia-valencia/pagina-{x}.htm'\n",
    "    \n",
    "    browser.get(url)\n",
    "    time.sleep(random.randint(10,12))\n",
    "    \n",
    "    try:\n",
    "        browser.find_element('id', 'didomi-notice-disagree-button').click()\n",
    "    except:\n",
    "        pass\n",
    "    \n",
    "    html = browser.page_source\n",
    "    soup = bs(html, 'html')\n",
    "    \n",
    "    pag_seleccionada = int(soup.find('div', {'class' : 'pagination'}).find('li', {'class' : 'selected'}).find('span').text)\n",
    "    \n",
    "    if x == pag_seleccionada:\n",
    "        articles = soup.find('main', {'class' : 'listing-items'}).find_all('article')\n",
    "    else:\n",
    "        break\n",
    "    \n",
    "    x += 1\n",
    "    \n",
    "    for article in articles:\n",
    "        id_inmuebles = article.get('data-element-id')\n",
    "        \n",
    "        ids.append(id_inmuebles)\n",
    "        \n",
    "        time.sleep(random.randint(1,3))\n",
    "        \n",
    "    ids = [inmueble for inmueble in ids if inmueble is not None]"
   ]
  },
  {
   "cell_type": "code",
   "execution_count": 74,
   "metadata": {},
   "outputs": [],
   "source": [
    "ids_inmuebles = pd.DataFrame(ids)\n",
    "ids_inmuebles.columns = ['id']\n",
    "ids_inmuebles.to_csv('ids_inmuebles.csv', index = False)"
   ]
  },
  {
   "cell_type": "code",
   "execution_count": 16,
   "metadata": {},
   "outputs": [],
   "source": [
    "inmuebles = pd.Series()"
   ]
  },
  {
   "cell_type": "code",
   "execution_count": 18,
   "metadata": {},
   "outputs": [],
   "source": [
    "# Diccionario con todas las posibles características\n",
    "\n",
    "def parse_inmueble(id_inmueble):\n",
    "    url = f'https://www.idealista.com/inmueble/{id_inmueble}/'\n",
    "    browser.get(url)\n",
    "    \n",
    "    html = browser.page_source\n",
    "    soup = bs(html, 'html')\n",
    "    \n",
    "    #AÑADIR ID INMUEBLE\n",
    "    df_inmueble = pd.DataFrame({'id_inmueble': [id_inmueble]})\n",
    "    \n",
    "    seccion_caracteristicas = soup.find('section', {'id' : 'details'})\n",
    "    try:\n",
    "        caracteristicas_inmueble =  [caract.text.strip() for caract in seccion_caracteristicas.find_all('li')]\n",
    "    except:\n",
    "        return\n",
    "    \n",
    "    # Diccionario con todas las posibles características\n",
    "    caracteristicas_dict = {\n",
    "        'Superficie construida': None,\n",
    "        'Superficie útil': None,\n",
    "        'Habitaciones': None,\n",
    "        'Baños': None,\n",
    "        'Terraza': None,\n",
    "        'Balcón': None,\n",
    "        'Plaza de garaje': None,\n",
    "        'Estado': None,\n",
    "        'Armarios empotrados': None,\n",
    "        'Calefacción': None,\n",
    "        'Orientación': None,\n",
    "    }\n",
    "    ubicacion_dict = {\n",
    "        'Barrio': None,\n",
    "        'Distrito': None\n",
    "    }\n",
    "    precio_dict = {\n",
    "        'Precio': None\n",
    "    }\n",
    "    \n",
    "    #CARACTERISTICAS\n",
    "    for caracteristica in caracteristicas_inmueble:\n",
    "        if ':' in caracteristica:\n",
    "            key, value = caracteristica.split(':', 1)\n",
    "            key = key.strip()\n",
    "            value = value.strip()\n",
    "            if key in caracteristicas_dict:\n",
    "                caracteristicas_dict[key] = value\n",
    "            else:\n",
    "                caracteristicas_dict[key] = value\n",
    "        else:\n",
    "            # Buscar superficie construida y útil sin clave-valor\n",
    "            if 'construidos' in caracteristica.lower():\n",
    "                superficie_construida = caracteristica.split(',')[0].strip()\n",
    "                superficie_construida = superficie_construida.replace('m² construidos', '').strip()\n",
    "                caracteristicas_dict['Superficie construida'] = superficie_construida\n",
    "            if 'útiles' in caracteristica.lower():\n",
    "                superficie_util = caracteristica.split(',')[1].strip()\n",
    "                superficie_util = superficie_util.replace('m² útiles', '').strip()\n",
    "                caracteristicas_dict['Superficie útil'] = superficie_util\n",
    "            \n",
    "            for key in caracteristicas_dict:\n",
    "                if key.lower() in caracteristica.lower():\n",
    "                    if caracteristicas_dict[key] is None:\n",
    "                        caracteristicas_dict[key] = caracteristica\n",
    "                    else:\n",
    "                        caracteristicas_dict[key] += ', ' + caracteristica\n",
    "    \n",
    "    #UBICACION\n",
    "    seccion_ubicacion = soup.find('div', {'id' : 'headerMap'})\n",
    "    caracteristicas_ubicacion = [caract.text.strip() for caract in seccion_ubicacion.find_all('li')][1:3]\n",
    "    \n",
    "    for ubicacion in caracteristicas_ubicacion:\n",
    "        if ':' in ubicacion:\n",
    "            key, value = ubicacion.split(':', 1)\n",
    "            key = key.strip()\n",
    "            value = value.strip()\n",
    "            if key in ubicacion_dict:\n",
    "                ubicacion_dict[key] = value\n",
    "        else:\n",
    "            for key in ubicacion_dict:\n",
    "                if key.lower() in ubicacion.lower():\n",
    "                    ubicacion_dict[key] = ubicacion\n",
    "                    break\n",
    "            else:\n",
    "                ubicacion_dict[len(ubicacion_dict) + 1] = ubicacion\n",
    "\n",
    "    caracteristicas_dict.update(ubicacion_dict)\n",
    "    \n",
    "    #PRECIO    \n",
    "    seccion_precio = soup.find('div', {'class' : 'info-data'})\n",
    "    precio = seccion_precio.find('span', {'class' : 'txt-bold'}).text.replace('.','')\n",
    "    precio_dict['Precio'] = precio\n",
    "    \n",
    "    caracteristicas_dict.update(precio_dict)\n",
    "    \n",
    "    df_inmueble = df_inmueble.join(pd.DataFrame([caracteristicas_dict]))\n",
    "    \n",
    "    return df_inmueble"
   ]
  },
  {
   "cell_type": "code",
   "execution_count": 19,
   "metadata": {},
   "outputs": [],
   "source": [
    "df = pd.read_csv('ids_inmuebles_full.csv')\n",
    "ids = df.values.flatten()\n",
    "\n",
    "df_casas = parse_inmueble(ids[0])\n",
    "\n",
    "\n",
    "for i in range(1, len(ids)):\n",
    "    df_casas = pd.concat([df_casas, parse_inmueble(ids[i])])\n",
    "    \n",
    "    time.sleep(random.randint(4,8))"
   ]
  },
  {
   "cell_type": "code",
   "execution_count": 20,
   "metadata": {},
   "outputs": [],
   "source": [
    "df_casas.to_csv('datos_full.csv', index = False)"
   ]
  }
 ],
 "metadata": {
  "kernelspec": {
   "display_name": "myenv",
   "language": "python",
   "name": "python3"
  },
  "language_info": {
   "codemirror_mode": {
    "name": "ipython",
    "version": 3
   },
   "file_extension": ".py",
   "mimetype": "text/x-python",
   "name": "python",
   "nbconvert_exporter": "python",
   "pygments_lexer": "ipython3",
   "version": "3.11.7"
  }
 },
 "nbformat": 4,
 "nbformat_minor": 2
}
